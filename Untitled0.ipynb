{
  "nbformat": 4,
  "nbformat_minor": 0,
  "metadata": {
    "colab": {
      "name": "Untitled0.ipynb",
      "provenance": [],
      "authorship_tag": "ABX9TyO58msMTpvB4hnqqAvPVqsk",
      "include_colab_link": true
    },
    "kernelspec": {
      "name": "python3",
      "display_name": "Python 3"
    }
  },
  "cells": [
    {
      "cell_type": "markdown",
      "metadata": {
        "id": "view-in-github",
        "colab_type": "text"
      },
      "source": [
        "<a href=\"https://colab.research.google.com/github/Medhavi-16/Hello-World-in-Kotlin/blob/main/Untitled0.ipynb\" target=\"_parent\"><img src=\"https://colab.research.google.com/assets/colab-badge.svg\" alt=\"Open In Colab\"/></a>"
      ]
    },
    {
      "cell_type": "code",
      "metadata": {
        "colab": {
          "base_uri": "https://localhost:8080/"
        },
        "id": "578jeUDWyHcT",
        "outputId": "08aae8af-c7b4-4a38-bd73-78f064e6f2dd"
      },
      "source": [
        "with open(\"/splash-image.png\", \"rb\") as image:\n",
        "  f = image.read()\n",
        "  b = bytearray(f)\n",
        "  print(b[0])"
      ],
      "execution_count": 1,
      "outputs": [
        {
          "output_type": "stream",
          "text": [
            "137\n"
          ],
          "name": "stdout"
        }
      ]
    },
    {
      "cell_type": "code",
      "metadata": {
        "colab": {
          "base_uri": "https://localhost:8080/"
        },
        "id": "TmOmxupKzVsh",
        "outputId": "2370038b-fa94-462a-f71e-1de21ddcb287"
      },
      "source": [
        "!pip install twofish\n",
        "from twofish import Twofish\n",
        "T = Twofish(b'*secret*')\n",
        "x = T.encrypt(b'YELLOWSUBMARINES')\n",
        "print(x)\n",
        "print(T.decrypt(x).decode())"
      ],
      "execution_count": 2,
      "outputs": [
        {
          "output_type": "stream",
          "text": [
            "Requirement already satisfied: twofish in /usr/local/lib/python3.7/dist-packages (0.3.0)\n",
            "b'\\x02-\\xdfI#)\\x18\\xe46Ah\\xdf\\xb21o\\xca'\n",
            "YELLOWSUBMARINES\n"
          ],
          "name": "stdout"
        }
      ]
    },
    {
      "cell_type": "code",
      "metadata": {
        "colab": {
          "base_uri": "https://localhost:8080/"
        },
        "id": "LUjHf_Niz8ws",
        "outputId": "d4f290be-9f3b-4e56-a07e-8d4b35e13aa3"
      },
      "source": [
        "!pip install stegano"
      ],
      "execution_count": 3,
      "outputs": [
        {
          "output_type": "stream",
          "text": [
            "Requirement already satisfied: stegano in /usr/local/lib/python3.7/dist-packages (0.9.8)\n",
            "Requirement already satisfied: piexif<2.0.0,>=1.1.3 in /usr/local/lib/python3.7/dist-packages (from stegano) (1.1.3)\n",
            "Requirement already satisfied: crayons<0.4.0,>=0.3.0 in /usr/local/lib/python3.7/dist-packages (from stegano) (0.3.1)\n",
            "Requirement already satisfied: pillow<7.0.0,>=6.2.1 in /usr/local/lib/python3.7/dist-packages (from stegano) (6.2.2)\n",
            "Requirement already satisfied: colorama in /usr/local/lib/python3.7/dist-packages (from crayons<0.4.0,>=0.3.0->stegano) (0.4.4)\n"
          ],
          "name": "stdout"
        }
      ]
    },
    {
      "cell_type": "code",
      "metadata": {
        "id": "cg3GfT_OziRr"
      },
      "source": [
        "from stegano import lsb\n",
        "secret=lsb.hide('/splash-image.png',x)\n",
        "secret.save('/encoded_image.png')\n"
      ],
      "execution_count": 5,
      "outputs": []
    },
    {
      "cell_type": "code",
      "metadata": {
        "id": "daggVuYD00iC"
      },
      "source": [
        "from PIL import Image\n",
        "im=Image.open(r\"/encoded_image.png\")\n",
        "im.show()  "
      ],
      "execution_count": 9,
      "outputs": []
    }
  ]
}